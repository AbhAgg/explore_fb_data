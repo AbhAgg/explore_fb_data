{
  "nbformat": 4,
  "nbformat_minor": 0,
  "metadata": {
    "kernelspec": {
      "display_name": "Python 3",
      "language": "python",
      "name": "python3"
    },
    "language_info": {
      "codemirror_mode": {
        "name": "ipython",
        "version": 3
      },
      "file_extension": ".py",
      "mimetype": "text/x-python",
      "name": "python",
      "nbconvert_exporter": "python",
      "pygments_lexer": "ipython3",
      "version": "3.7.6"
    },
    "colab": {
      "name": "getting_data_for_calendar_visualization.ipynb",
      "provenance": [],
      "include_colab_link": true
    }
  },
  "cells": [
    {
      "cell_type": "markdown",
      "metadata": {
        "id": "view-in-github",
        "colab_type": "text"
      },
      "source": [
        "<a href=\"https://colab.research.google.com/github/atinsinghal97/explore_fb_data/blob/main/data_preprocessing/getting_data_for_calendar_visualization.ipynb\" target=\"_parent\"><img src=\"https://colab.research.google.com/assets/colab-badge.svg\" alt=\"Open In Colab\"/></a>"
      ]
    },
    {
      "cell_type": "markdown",
      "metadata": {
        "id": "moYlMdmAglN-"
      },
      "source": [
        "## Importing relevant libraries"
      ]
    },
    {
      "cell_type": "code",
      "metadata": {
        "id": "mKh3_U-bglOH"
      },
      "source": [
        "import os\n",
        "import json\n",
        "import time\n",
        "import pandas as pd\n",
        "from datetime import datetime\n",
        "from operator import itemgetter"
      ],
      "execution_count": null,
      "outputs": []
    },
    {
      "cell_type": "markdown",
      "metadata": {
        "id": "OT-g11ogglOH"
      },
      "source": [
        "## Defining working directories"
      ]
    },
    {
      "cell_type": "code",
      "metadata": {
        "id": "uUK3Ef_zglOI"
      },
      "source": [
        "base_dir = r'D:\\Analytics\\ETHI MENON LABS\\facebook-sampledataset\\facebook-sampledataset\\likes_and_reactions/'\n",
        "\n",
        "entries = os.listdir(r'D:\\Analytics\\ETHI MENON LABS\\facebook-sampledataset\\facebook-sampledataset\\likes_and_reactions/')"
      ],
      "execution_count": null,
      "outputs": []
    },
    {
      "cell_type": "markdown",
      "metadata": {
        "id": "Vh18njUpglOI"
      },
      "source": [
        "## Function to convert data to readable time"
      ]
    },
    {
      "cell_type": "code",
      "metadata": {
        "id": "Lb1o9aXSglOI"
      },
      "source": [
        "def calculate_time(row):\n",
        "    return time.strftime(\"%Y-%m-%d \", time.gmtime(row['timestamp']))"
      ],
      "execution_count": null,
      "outputs": []
    },
    {
      "cell_type": "markdown",
      "metadata": {
        "id": "B1erXihLglOJ"
      },
      "source": [
        "## Loading the data into a dataframe, cleaning the data"
      ]
    },
    {
      "cell_type": "code",
      "metadata": {
        "id": "wYbXFVd0glOJ"
      },
      "source": [
        "df3 = pd.DataFrame()\n",
        "\n",
        "for f in entries:\n",
        "    filename = r''+f+''\n",
        "    q = os.path.join(base_dir, filename)\n",
        "    f1 = open(q)\n",
        "    data = json.load(f1)\n",
        "\n",
        "    df1 = pd.DataFrame(data)\n",
        "    df2 = df1[df1.columns[0]].apply(pd.Series)\n",
        "    \n",
        "    # adding readable time to new column\n",
        "    df2['readable_time'] = df2.apply(calculate_time,axis = 1)   \n",
        "    df3 = df3.append(df2['readable_time'])"
      ],
      "execution_count": null,
      "outputs": []
    },
    {
      "cell_type": "markdown",
      "metadata": {
        "id": "u71tqd1MglOJ"
      },
      "source": [
        "## Transposing the obtained array to form a Series"
      ]
    },
    {
      "cell_type": "code",
      "metadata": {
        "id": "fdTXFtupglOK"
      },
      "source": [
        "df3 = df3.T\n",
        "df3.columns = range(df3.shape[1])"
      ],
      "execution_count": null,
      "outputs": []
    },
    {
      "cell_type": "markdown",
      "metadata": {
        "id": "sSt4CHUZglOK"
      },
      "source": [
        "## Dropping missing values and sorting to get cleaner data"
      ]
    },
    {
      "cell_type": "code",
      "metadata": {
        "id": "MEuA4opfglOK"
      },
      "source": [
        "df3 = df3[0].append(df3[1]).reset_index(drop = True).to_frame().dropna()\n",
        "df3.sort_values(0, inplace = True) \n",
        "df3 = df2.readable_time.value_counts()"
      ],
      "execution_count": null,
      "outputs": []
    },
    {
      "cell_type": "markdown",
      "metadata": {
        "id": "8IkDrJLAglOL"
      },
      "source": [
        "## Adding dates to a new column and re-indexing the dataframe"
      ]
    },
    {
      "cell_type": "code",
      "metadata": {
        "id": "zGaMvwjhglOL"
      },
      "source": [
        "df3 = df3.to_frame()\n",
        "df3['date'] = df3.index"
      ],
      "execution_count": null,
      "outputs": []
    },
    {
      "cell_type": "markdown",
      "metadata": {
        "id": "HirVFYOSglOL"
      },
      "source": [
        "## Renaming some columns"
      ]
    },
    {
      "cell_type": "code",
      "metadata": {
        "id": "gTIfNwSXglOL"
      },
      "source": [
        "df3 = df3.rename(columns = {\"readable_time\":\"count\"})\n",
        "columnsTitles = ['date', 'count']\n",
        "df3 = df3.reindex(columns = columnsTitles)"
      ],
      "execution_count": null,
      "outputs": []
    },
    {
      "cell_type": "markdown",
      "metadata": {
        "id": "_9LEkYHaglOM"
      },
      "source": [
        "## Reindexing the dataframe to increase accessibility"
      ]
    },
    {
      "cell_type": "code",
      "metadata": {
        "id": "bTZTNydVglOM"
      },
      "source": [
        "df3.sort_values('date', inplace = True)\n",
        "df3 = df3.reset_index(drop = True)\n",
        "df3['date'] = df3['date'].str.strip()\n",
        "df3['date'] = df3['date'].apply(lambda x : datetime.strptime(x, '%Y-%m-%d').timestamp()) \n",
        "df3.to_json('foobar.json',orient = \"records\")"
      ],
      "execution_count": null,
      "outputs": []
    }
  ]
}