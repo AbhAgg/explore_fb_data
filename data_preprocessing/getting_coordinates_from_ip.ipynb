{
  "nbformat": 4,
  "nbformat_minor": 0,
  "metadata": {
    "colab": {
      "name": "getting_coordinates_from_ip.ipynb",
      "provenance": [],
      "collapsed_sections": [],
      "authorship_tag": "ABX9TyMzx7HkcBSCRnvknfz6epmN",
      "include_colab_link": true
    },
    "kernelspec": {
      "name": "python3",
      "display_name": "Python 3"
    }
  },
  "cells": [
    {
      "cell_type": "markdown",
      "metadata": {
        "id": "view-in-github",
        "colab_type": "text"
      },
      "source": [
        "<a href=\"https://colab.research.google.com/github/atinsinghal97/explore_fb_data/blob/main/data_preprocessing/getting_coordinates_from_ip.ipynb\" target=\"_parent\"><img src=\"https://colab.research.google.com/assets/colab-badge.svg\" alt=\"Open In Colab\"/></a>"
      ]
    },
    {
      "cell_type": "markdown",
      "metadata": {
        "id": "tBbsVMvyeOuB"
      },
      "source": [
        "This file is used to make API calls to external services to get the coordinates from IP addresses in the user's data to help them visualize the same on a map."
      ]
    },
    {
      "cell_type": "code",
      "metadata": {
        "id": "ebDpF5flQdc2"
      },
      "source": [
        "# Installing Python Packages\n",
        "# NOTE: ONLY NEED TO DO IT ONCE\n",
        "!pip install ipinfo\n",
        "!pip install ipdata"
      ],
      "execution_count": null,
      "outputs": []
    },
    {
      "cell_type": "code",
      "metadata": {
        "id": "icehBP7PQzd3"
      },
      "source": [
        "import os\n",
        "import zipfile\n",
        "import json\n",
        "from pprint import pprint # pretty print- better visualization of json data"
      ],
      "execution_count": null,
      "outputs": []
    },
    {
      "cell_type": "code",
      "metadata": {
        "id": "fm2oGKDcSO1p",
        "colab": {
          "base_uri": "https://localhost:8080/"
        },
        "outputId": "41b12ed1-b420-4fde-a751-d249dd4e98c9"
      },
      "source": [
        "# Getting Dataset\n",
        "\n",
        "!wget --no-check-certificate \\\n",
        "    \"https://drive.google.com/u/0/uc?id=106gkJ-Eb-sD6O1rXxbR4d2fsw0uezd3b&export=download\" \\\n",
        "    -O \"/tmp/facebook-sampledataset.zip\"\n",
        "\n",
        "local_zip = '/tmp/facebook-sampledataset.zip'\n",
        "zip_ref   = zipfile.ZipFile(local_zip, 'r')\n",
        "zip_ref.extractall('/tmp')\n",
        "zip_ref.close()"
      ],
      "execution_count": null,
      "outputs": [
        {
          "output_type": "stream",
          "text": [
            "--2020-12-31 07:30:32--  https://drive.google.com/u/0/uc?id=106gkJ-Eb-sD6O1rXxbR4d2fsw0uezd3b&export=download\n",
            "Resolving drive.google.com (drive.google.com)... 173.194.69.101, 173.194.69.102, 173.194.69.138, ...\n",
            "Connecting to drive.google.com (drive.google.com)|173.194.69.101|:443... connected.\n",
            "HTTP request sent, awaiting response... 302 Moved Temporarily\n",
            "Location: https://doc-0s-a8-docs.googleusercontent.com/docs/securesc/ha0ro937gcuc7l7deffksulhg5h7mbp1/hlffv7g18bbttipg231usqguv8rccqbc/1609399800000/08981783661760789041/*/106gkJ-Eb-sD6O1rXxbR4d2fsw0uezd3b?e=download [following]\n",
            "Warning: wildcards not supported in HTTP.\n",
            "--2020-12-31 07:30:35--  https://doc-0s-a8-docs.googleusercontent.com/docs/securesc/ha0ro937gcuc7l7deffksulhg5h7mbp1/hlffv7g18bbttipg231usqguv8rccqbc/1609399800000/08981783661760789041/*/106gkJ-Eb-sD6O1rXxbR4d2fsw0uezd3b?e=download\n",
            "Resolving doc-0s-a8-docs.googleusercontent.com (doc-0s-a8-docs.googleusercontent.com)... 108.177.119.132, 2a00:1450:4013:c00::84\n",
            "Connecting to doc-0s-a8-docs.googleusercontent.com (doc-0s-a8-docs.googleusercontent.com)|108.177.119.132|:443... connected.\n",
            "HTTP request sent, awaiting response... 200 OK\n",
            "Length: unspecified [application/zip]\n",
            "Saving to: ‘/tmp/facebook-sampledataset.zip’\n",
            "\n",
            "/tmp/facebook-sampl     [  <=>               ]  10.20M  18.1MB/s    in 0.6s    \n",
            "\n",
            "2020-12-31 07:30:36 (18.1 MB/s) - ‘/tmp/facebook-sampledataset.zip’ saved [10699931]\n",
            "\n"
          ],
          "name": "stdout"
        }
      ]
    },
    {
      "cell_type": "code",
      "metadata": {
        "id": "RDhuPOsHUXWA",
        "colab": {
          "base_uri": "https://localhost:8080/"
        },
        "outputId": "f7c0c1b9-a127-414c-ac39-8bc42d1b1c8c"
      },
      "source": [
        "print(len(os.listdir('/tmp/facebook-sampledataset')))\n",
        "\n",
        "# Expected Output:\n",
        "# 19"
      ],
      "execution_count": null,
      "outputs": [
        {
          "output_type": "stream",
          "text": [
            "19\n"
          ],
          "name": "stdout"
        }
      ]
    },
    {
      "cell_type": "code",
      "metadata": {
        "id": "zB_xgI34VHSn",
        "colab": {
          "base_uri": "https://localhost:8080/",
          "height": 37
        },
        "outputId": "10a37a37-d35a-422e-ee02-ef2deb54f73a"
      },
      "source": [
        "# Function to get coordinates from IP [Limited Usage- 50,000/month]\n",
        "# RUN EITHER THIS OR THE CELL BELOW\n",
        "\n",
        "import ipinfo\n",
        "\n",
        "access_token = '3dcbac5b8a715e'\n",
        "handler = ipinfo.getHandler(access_token)\n",
        "\n",
        "def get_coordinates_from_ip (ip_address):\n",
        "  # ip_address = '216.239.36.21'\n",
        "  details = handler.getDetails(ip_address)\n",
        "  return details.loc    # 37.4056,-122.0775\n",
        "\n",
        "get_coordinates_from_ip('216.239.36.21')\n",
        "# get_coordinates_from_ip('2a02:c7d:4204:ee00:ecd6:19ba:f1c7:1190')"
      ],
      "execution_count": null,
      "outputs": [
        {
          "output_type": "execute_result",
          "data": {
            "application/vnd.google.colaboratory.intrinsic+json": {
              "type": "string"
            },
            "text/plain": [
              "'38.0088,-122.1175'"
            ]
          },
          "metadata": {
            "tags": []
          },
          "execution_count": 126
        }
      ]
    },
    {
      "cell_type": "code",
      "metadata": {
        "id": "v4THf4VXedi6",
        "colab": {
          "base_uri": "https://localhost:8080/",
          "height": 37
        },
        "outputId": "84fcf56e-a1cd-4ac5-a020-8753069a5842"
      },
      "source": [
        "# Function to get coordinates from IP- Alternative [Limited Usage- 1,500/day]\n",
        "# RUN EITHER THIS OR THE CELL ABOVE\n",
        "\n",
        "from ipdata import ipdata\n",
        "\n",
        "access_token = 'f2f889b131f0d4bf412a7e79e6f8c41ff61de8ebb71ec58bbc8850aa'\n",
        "ipdata = ipdata.IPData(access_token)\n",
        "\n",
        "def get_coordinates_from_ip (ip_address):\n",
        "  # ip_address = '216.239.36.21'\n",
        "  response = ipdata.lookup(ip_address)\n",
        "  loc = str(response['latitude']) + ',' + str(response['longitude'])\n",
        "  return loc    # 37.3891,-122.0866\n",
        "\n",
        "get_coordinates_from_ip('216.239.36.21')\n",
        "# get_coordinates_from_ip('2a02:c7d:4204:ee00:ecd6:19ba:f1c7:1190')"
      ],
      "execution_count": null,
      "outputs": [
        {
          "output_type": "execute_result",
          "data": {
            "application/vnd.google.colaboratory.intrinsic+json": {
              "type": "string"
            },
            "text/plain": [
              "'37.3891,-122.0866'"
            ]
          },
          "metadata": {
            "tags": []
          },
          "execution_count": 127
        }
      ]
    },
    {
      "cell_type": "code",
      "metadata": {
        "id": "cuRHcyuCkOTQ"
      },
      "source": [
        "# Function to update global ip-coordinate map\n",
        "\n",
        "# ip_set = set()\n",
        "ip_coordinate_map = dict()\n",
        "\n",
        "def update_ip_coordinate_map_with(json_list, json_key): \n",
        "  # json_list: list of JSON object\n",
        "  # json_key: identifier for ip in the json file\n",
        "  for entry in json_list:\n",
        "    ip = entry[json_key]\n",
        "    if ip not in ip_coordinate_map:\n",
        "      ip_coordinate_map[ip] = get_coordinates_from_ip(ip)\n",
        "      "
      ],
      "execution_count": null,
      "outputs": []
    },
    {
      "cell_type": "code",
      "metadata": {
        "id": "j02ppy2WQtZk"
      },
      "source": [
        "# Function to read JSON data from files and update global ip-coordinate map\n",
        "\n",
        "def load_data_from (file_path, json_list, json_key):\n",
        "  # file_path: path to the file\n",
        "  # json_list: list of JSON object\n",
        "  # json_key: identifier for ip in the json file\n",
        "  file = open(file_path)\n",
        "  file_data = json.load(file)\n",
        "  file.close()\n",
        "\n",
        "  update_ip_coordinate_map_with(file_data[json_list], json_key)\n",
        "\n",
        "# updating the IP coordinates as a global parameter to limit external API calls and reduce overheads\n",
        "# we can also save the data on local servers as a file if space isn't a constraint."
      ],
      "execution_count": null,
      "outputs": []
    },
    {
      "cell_type": "code",
      "metadata": {
        "colab": {
          "base_uri": "https://localhost:8080/"
        },
        "id": "BM2wk1cjj2fA",
        "outputId": "13be3ada-62b2-4ec4-dc7e-073e76ee7e5a"
      },
      "source": [
        "# List of all the files which have IP information\n",
        "\n",
        "ip_file_list = [[\"/tmp/facebook-sampledataset/security_and_login_information/account_activity.json\", \"account_activity\", \"ip_address\"],\n",
        "                [\"/tmp/facebook-sampledataset/security_and_login_information/used_ip_addresses.json\", \"used_ip_address\", \"ip\"],\n",
        "                [\"/tmp/facebook-sampledataset/security_and_login_information/where_you're_logged_in.json\", \"active_sessions\", \"ip_address\"],\n",
        "                [\"/tmp/facebook-sampledataset/security_and_login_information/logins_and_logouts.json\", \"account_accesses\", \"ip_address\"],\n",
        "                [\"/tmp/facebook-sampledataset/security_and_login_information/authorized_logins.json\", \"recognized_devices\", \"ip_address\"]\n",
        "]\n",
        "\n",
        "# Function call to create a master ip-coordinate map\n",
        "\n",
        "for obj in ip_file_list:\n",
        "  load_data_from(file_path = obj[0], json_list = obj[1], json_key = obj[2])\n",
        "  print(len(ip_coordinate_map))"
      ],
      "execution_count": null,
      "outputs": [
        {
          "output_type": "stream",
          "text": [
            "188\n",
            "199\n",
            "204\n",
            "205\n",
            "207\n"
          ],
          "name": "stdout"
        }
      ]
    },
    {
      "cell_type": "code",
      "metadata": {
        "id": "bP5jOJvADUv1",
        "colab": {
          "base_uri": "https://localhost:8080/"
        },
        "outputId": "7cff03c5-be85-47c8-d3af-0e3c6711849f"
      },
      "source": [
        "ip_coordinate_map"
      ],
      "execution_count": null,
      "outputs": [
        {
          "output_type": "execute_result",
          "data": {
            "text/plain": [
              "{'128.40.176.132': '51.5085,-0.1257',\n",
              " '128.41.38.80': '51.5085,-0.1257',\n",
              " '128.41.9.30': '51.5085,-0.1257',\n",
              " '138.38.238.132': '51.3751,-2.3617',\n",
              " '144.82.8.85': '51.5085,-0.1257',\n",
              " '148.252.128.52': '51.5085,-0.1257',\n",
              " '148.252.129.114': '51.5085,-0.1257',\n",
              " '151.230.215.80': '54.9911,-1.5340',\n",
              " '151.230.75.219': '53.7628,-2.7045',\n",
              " '167.98.125.201': '51.5085,-0.1257',\n",
              " '170.194.32.12': '51.5085,-0.1257',\n",
              " '170.194.32.42': '51.5085,-0.1257',\n",
              " '170.194.32.58': '51.5085,-0.1257',\n",
              " '212.49.215.19': '51.5580,-1.7812',\n",
              " '213.205.240.132': '51.5085,-0.1257',\n",
              " '2a02:0c7d:4204:ee00:ecd6:19ba:f1c7:1190': '54.5968,-5.9254',\n",
              " '2a02:c7d:4204:ee00:ecd6:19ba:f1c7:1190': '54.5968,-5.9254',\n",
              " '5.148.125.98': '51.5085,-0.1257',\n",
              " '77.218.246.37': '59.3294,18.0687',\n",
              " '77.81.11.135': '44.6500,24.2667',\n",
              " '79.173.170.234': '51.5085,-0.1257',\n",
              " '81.153.195.59': '53.4809,-2.2374',\n",
              " '81.153.199.196': '51.8657,-2.2431',\n",
              " '81.154.57.249': '52.1889,0.9977',\n",
              " '81.156.166.92': '54.9981,-7.3093',\n",
              " '81.157.206.177': '51.0817,1.1673',\n",
              " '83.185.89.163': '65.9577,16.2101',\n",
              " '85.255.232.8': '51.5085,-0.1257',\n",
              " '85.255.233.191': '51.5085,-0.1257',\n",
              " '85.255.233.90': '51.5085,-0.1257',\n",
              " '85.255.233.95': '51.5085,-0.1257',\n",
              " '85.255.235.167': '51.5085,-0.1257',\n",
              " '85.255.237.95': '51.5085,-0.1257',\n",
              " '86.133.83.42': '54.8636,-6.2763',\n",
              " '86.138.231.84': '52.0632,-1.3422',\n",
              " '90.240.215.32': '51.5085,-0.1257',\n",
              " '90.242.3.237': '51.5085,-0.1257',\n",
              " '90.248.64.111': '50.7236,-3.5275',\n",
              " '90.252.105.36': '51.5085,-0.1257',\n",
              " '90.252.124.65': '51.5085,-0.1257',\n",
              " '90.252.76.162': '51.5085,-0.1257',\n",
              " '90.252.82.197': '51.5085,-0.1257',\n",
              " '90.252.9.119': '50.9040,-1.4043',\n",
              " '92.1.105.241': '51.1130,-0.1831'}"
            ]
          },
          "metadata": {
            "tags": []
          },
          "execution_count": 32
        }
      ]
    },
    {
      "cell_type": "code",
      "metadata": {
        "id": "H8rtB2_2miEo"
      },
      "source": [
        ""
      ],
      "execution_count": null,
      "outputs": []
    },
    {
      "cell_type": "code",
      "metadata": {
        "id": "1xjD89j1jguN"
      },
      "source": [
        "# Standard function to write JSON data to file\n",
        "\n",
        "def write_json (data, file_name):\n",
        "  with open(file_name,'w') as f: \n",
        "        json.dump(data, f, indent=4)"
      ],
      "execution_count": null,
      "outputs": []
    },
    {
      "cell_type": "code",
      "metadata": {
        "id": "AOn5BFKwjhHk"
      },
      "source": [
        "# Function to add coordinates data to the existing file\n",
        "\n",
        "def update_files(file_path, json_header, json_key):\n",
        "  with open(file_path) as json_file: \n",
        "      data = json.load(json_file) \n",
        "        \n",
        "      json_list = data[json_header]\n",
        "\n",
        "      for entry in json_list:\n",
        "        ip = entry[json_key]\n",
        "        coordinate = ip_coordinate_map[ip]\n",
        "        lat, lon = coordinate.split(\",\")\n",
        "        update_with = { 'coordinate': {'latitude': lat, 'longitude': lon} }\n",
        "        entry.update(update_with)\n",
        "        # pprint(entry)\n",
        "      # pprint(data)\n",
        "\n",
        "      write_json(data, file_path)\n",
        "      \n",
        "# update_files(ip_file_list[2][0], ip_file_list[2][1], ip_file_list[2][2])"
      ],
      "execution_count": null,
      "outputs": []
    },
    {
      "cell_type": "code",
      "metadata": {
        "id": "xpQe67yOjhXY"
      },
      "source": [
        "# repeatedly calling update_files function for every file in the list\n",
        "\n",
        "for obj in ip_file_list:\n",
        "  update_files(file_path = obj[0], json_header = obj[1], json_key = obj[2])"
      ],
      "execution_count": null,
      "outputs": []
    },
    {
      "cell_type": "code",
      "metadata": {
        "id": "QSi-dzUpnygf"
      },
      "source": [
        ""
      ],
      "execution_count": null,
      "outputs": []
    }
  ]
}